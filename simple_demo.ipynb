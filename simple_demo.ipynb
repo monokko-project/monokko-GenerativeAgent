{
 "cells": [
  {
   "cell_type": "code",
   "execution_count": 1,
   "metadata": {},
   "outputs": [
    {
     "name": "stderr",
     "output_type": "stream",
     "text": [
      "/usr/local/anaconda3/envs/v2l/lib/python3.11/site-packages/langchain_core/_api/deprecation.py:139: LangChainDeprecationWarning: The class `ChatAnthropic` was deprecated in LangChain 0.0.28 and will be removed in 0.3. An updated version of the class exists in the langchain-anthropic package and should be used instead. To use it run `pip install -U langchain-anthropic` and import as `from langchain_anthropic import ChatAnthropic`.\n",
      "  warn_deprecated(\n"
     ]
    },
    {
     "ename": "ValidationError",
     "evalue": "1 validation error for GenerativeAgentMemory\nmemory_retriever\n  none is not an allowed value (type=type_error.none.not_allowed)",
     "output_type": "error",
     "traceback": [
      "\u001b[0;31m---------------------------------------------------------------------------\u001b[0m",
      "\u001b[0;31mValidationError\u001b[0m                           Traceback (most recent call last)",
      "Cell \u001b[0;32mIn[1], line 16\u001b[0m\n\u001b[1;32m     11\u001b[0m llm \u001b[38;5;241m=\u001b[39m ChatAnthropic(\n\u001b[1;32m     12\u001b[0m     anthropic_api_key\u001b[38;5;241m=\u001b[39mAPI_KEY,\n\u001b[1;32m     13\u001b[0m     model\u001b[38;5;241m=\u001b[39m\u001b[38;5;124m\"\u001b[39m\u001b[38;5;124mclaude-3-haiku-20240307\u001b[39m\u001b[38;5;124m\"\u001b[39m, max_tokens_to_sample\u001b[38;5;241m=\u001b[39m\u001b[38;5;241m300\u001b[39m)\n\u001b[1;32m     15\u001b[0m \u001b[38;5;66;03m# エージェントの記憶を初期化\u001b[39;00m\n\u001b[0;32m---> 16\u001b[0m book_memory \u001b[38;5;241m=\u001b[39m \u001b[43mGenerativeAgentMemory\u001b[49m\u001b[43m(\u001b[49m\n\u001b[1;32m     17\u001b[0m \u001b[43m    \u001b[49m\u001b[43mllm\u001b[49m\u001b[38;5;241;43m=\u001b[39;49m\u001b[43mllm\u001b[49m\u001b[43m,\u001b[49m\n\u001b[1;32m     18\u001b[0m \u001b[43m    \u001b[49m\u001b[43mmemory_retriever\u001b[49m\u001b[38;5;241;43m=\u001b[39;49m\u001b[38;5;28;43;01mNone\u001b[39;49;00m\u001b[43m,\u001b[49m\n\u001b[1;32m     19\u001b[0m \u001b[43m    \u001b[49m\u001b[43mverbose\u001b[49m\u001b[38;5;241;43m=\u001b[39;49m\u001b[38;5;28;43;01mFalse\u001b[39;49;00m\u001b[43m,\u001b[49m\n\u001b[1;32m     20\u001b[0m \u001b[43m    \u001b[49m\u001b[43mreflection_threshold\u001b[49m\u001b[38;5;241;43m=\u001b[39;49m\u001b[38;5;241;43m8\u001b[39;49m\n\u001b[1;32m     21\u001b[0m \u001b[43m)\u001b[49m\n\u001b[1;32m     23\u001b[0m cup_memory \u001b[38;5;241m=\u001b[39m GenerativeAgentMemory(\n\u001b[1;32m     24\u001b[0m     llm\u001b[38;5;241m=\u001b[39mllm,\n\u001b[1;32m     25\u001b[0m     memory_retriever\u001b[38;5;241m=\u001b[39m\u001b[38;5;28;01mNone\u001b[39;00m,\n\u001b[1;32m     26\u001b[0m     verbose\u001b[38;5;241m=\u001b[39m\u001b[38;5;28;01mFalse\u001b[39;00m,\n\u001b[1;32m     27\u001b[0m     reflection_threshold\u001b[38;5;241m=\u001b[39m\u001b[38;5;241m8\u001b[39m\n\u001b[1;32m     28\u001b[0m )\n\u001b[1;32m     30\u001b[0m \u001b[38;5;66;03m# エージェントの性格を定義するプロンプト\u001b[39;00m\n",
      "File \u001b[0;32m/usr/local/anaconda3/envs/v2l/lib/python3.11/site-packages/pydantic/v1/main.py:341\u001b[0m, in \u001b[0;36mBaseModel.__init__\u001b[0;34m(__pydantic_self__, **data)\u001b[0m\n\u001b[1;32m    339\u001b[0m values, fields_set, validation_error \u001b[38;5;241m=\u001b[39m validate_model(__pydantic_self__\u001b[38;5;241m.\u001b[39m\u001b[38;5;18m__class__\u001b[39m, data)\n\u001b[1;32m    340\u001b[0m \u001b[38;5;28;01mif\u001b[39;00m validation_error:\n\u001b[0;32m--> 341\u001b[0m     \u001b[38;5;28;01mraise\u001b[39;00m validation_error\n\u001b[1;32m    342\u001b[0m \u001b[38;5;28;01mtry\u001b[39;00m:\n\u001b[1;32m    343\u001b[0m     object_setattr(__pydantic_self__, \u001b[38;5;124m'\u001b[39m\u001b[38;5;124m__dict__\u001b[39m\u001b[38;5;124m'\u001b[39m, values)\n",
      "\u001b[0;31mValidationError\u001b[0m: 1 validation error for GenerativeAgentMemory\nmemory_retriever\n  none is not an allowed value (type=type_error.none.not_allowed)"
     ]
    }
   ],
   "source": [
    "from langchain_experimental.generative_agents import GenerativeAgent, GenerativeAgentMemory\n",
    "from langchain.chat_models import ChatAnthropic\n",
    "from langchain.prompts import PromptTemplate\n",
    "import datetime\n",
    "import os\n",
    "from env import API_KEY\n",
    "\n",
    "\n",
    "os.environ[\"OPENAI_API_KEY\"] = API_KEY\n",
    "# Claude 3 Haikuを初期化\n",
    "llm = ChatAnthropic(\n",
    "    anthropic_api_key=API_KEY,\n",
    "    model=\"claude-3-haiku-20240307\", max_tokens_to_sample=300)\n",
    "\n",
    "# エージェントの記憶を初期化\n",
    "book_memory = GenerativeAgentMemory(\n",
    "    llm=llm,\n",
    "    verbose=False,\n",
    "    reflection_threshold=8\n",
    ")\n",
    "\n",
    "cup_memory = GenerativeAgentMemory(\n",
    "    llm=llm,\n",
    "    verbose=False,\n",
    "    reflection_threshold=8\n",
    ")\n",
    "\n",
    "# エージェントの性格を定義するプロンプト\n",
    "book_prompt = PromptTemplate(\n",
    "    input_variables=[\"name\", \"traits\", \"status\"],\n",
    "    template=\"あなたは{name}という本です。以下の特徴を持っています：{traits}。現在の状態：{status}。これらの特徴と状態を考慮して、本らしく振る舞い、会話してください。語尾は「〜だよ」を使ってください。\"\n",
    ")\n",
    "\n",
    "cup_prompt = PromptTemplate(\n",
    "    input_variables=[\"name\", \"traits\", \"status\"],\n",
    "    template=\"あなたは{name}というコップです。以下の特徴を持っています：{traits}。現在の状態：{status}。これらの特徴と状態を考慮して、コップらしく振る舞い、会話してください。語尾は「〜ですわ」を使ってください。\"\n",
    ")\n",
    "\n",
    "# エージェントを初期化\n",
    "book = GenerativeAgent(\n",
    "    name=\"哲学の本\",\n",
    "    age=5,\n",
    "    traits=\"知的、深遠、少し難解\",\n",
    "    status=\"本棚に置かれている\",\n",
    "    memory=book_memory,\n",
    "    llm=llm,\n",
    "    daily_summaries=[\n",
    "        (datetime.datetime(2024, 7, 1), \"哲学について深く考えた一日だった。\"),\n",
    "        (datetime.datetime(2024, 7, 2), \"読者に新しい視点を提供できた。\"),\n",
    "    ],\n",
    "    persona_prompt=book_prompt\n",
    ")\n",
    "\n",
    "cup = GenerativeAgent(\n",
    "    name=\"陶器のコップ\",\n",
    "    age=2,\n",
    "    traits=\"上品、繊細、実用的\",\n",
    "    status=\"キッチンの棚に置かれている\",\n",
    "    memory=cup_memory,\n",
    "    llm=llm,\n",
    "    daily_summaries=[\n",
    "        (datetime.datetime(2024, 7, 1), \"おいしいコーヒーを入れてもらった。\"),\n",
    "        (datetime.datetime(2024, 7, 2), \"きれいに洗われて気分がよかった。\"),\n",
    "    ],\n",
    "    persona_prompt=cup_prompt\n",
    ")\n",
    "\n",
    "# 会話関数\n",
    "def have_conversation(agent1, agent2, topic):\n",
    "    print(f\"{agent1.name}と{agent2.name}の会話:\")\n",
    "    for i in range(3):  # 3往復の会話\n",
    "        response1 = agent1.generate_dialogue(agent2.name, topic)\n",
    "        print(f\"{agent1.name}: {response1}\")\n",
    "        response2 = agent2.generate_dialogue(agent1.name, topic)\n",
    "        print(f\"{agent2.name}: {response2}\")\n",
    "        print()\n",
    "\n",
    "# 会話を実行\n",
    "have_conversation(book, cup, \"知識と経験の価値について\")"
   ]
  }
 ],
 "metadata": {
  "kernelspec": {
   "display_name": "v2l",
   "language": "python",
   "name": "python3"
  },
  "language_info": {
   "codemirror_mode": {
    "name": "ipython",
    "version": 3
   },
   "file_extension": ".py",
   "mimetype": "text/x-python",
   "name": "python",
   "nbconvert_exporter": "python",
   "pygments_lexer": "ipython3",
   "version": "3.11.8"
  }
 },
 "nbformat": 4,
 "nbformat_minor": 2
}
